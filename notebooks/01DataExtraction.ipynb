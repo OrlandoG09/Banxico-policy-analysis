{
 "cells": [
  {
   "cell_type": "code",
   "execution_count": null,
   "id": "fcaddd99",
   "metadata": {},
   "outputs": [
    {
     "name": "stdout",
     "output_type": "stream",
     "text": [
      "Librerias importadas.\n",
      "El API token: 749fbbf7a741a02edff8e56eb6529f579dadc75f56539114674bc5ed8ec6ebe3\n",
      "Direccion en la que estamos trabajando: d:\\PROYECTOS AMBICIOSOS\\Banxico-policy-analysis\\notebooks\n"
     ]
    }
   ],
   "source": [
    "import requests \n",
    "import pandas as pd\n",
    "import sys \n",
    "import os\n",
    "#Para importar el modulo config.py que esta en el directorio padre\n",
    "project_root = os.path.abspath(os.path.join(os.getcwd(), '..'))\n",
    "if project_root not in sys.path:\n",
    "    sys.path.insert(0, project_root)\n",
    "\n",
    "import config \n",
    "\n",
    "\n",
    "\n",
    "print(\"Librerias importadas.\")\n",
    "print(\"El API token:\", config.API_TOKEN)\n",
    "print(\"Direccion en la que estamos trabajando:\",os.getcwd())\n",
    "\n",
    "\n",
    "#Funcion para obtener los datos de la API\n",
    "def banco_mexico(token,serie,fecha_inicio,fecha_fin):\n",
    "    serie= f\"https://www.banxico.org.mx/SieAPIRest/service/v1/series/{serie}/datos/{fecha_inicio}/{fecha_fin}\"\n",
    "    \n",
    "    response=requests.get(serie, headers={\"Bmx-Token\": token})\n",
    "    status=response.status_code \n",
    "    if status!=200:\n",
    "        print(\"Error,codigo{}\".format(status))\n",
    "        return None\n",
    "    raw_data=response.json()[\"bmx\"][\"series\"][0][\"datos\"]\n",
    "    dataframe=pd.DataFrame(raw_data)\n",
    "    dataframe[\"fecha\"]=pd.to_datetime(dataframe[\"fecha\"], format=\"%d/%m/%Y\")\n",
    "    dataframe[\"dato\"]=pd.to_numeric(dataframe[\"dato\"])\n",
    "    return dataframe\n",
    "\n"
   ]
  }
 ],
 "metadata": {
  "kernelspec": {
   "display_name": "venv",
   "language": "python",
   "name": "python3"
  },
  "language_info": {
   "codemirror_mode": {
    "name": "ipython",
    "version": 3
   },
   "file_extension": ".py",
   "mimetype": "text/x-python",
   "name": "python",
   "nbconvert_exporter": "python",
   "pygments_lexer": "ipython3",
   "version": "3.13.5"
  }
 },
 "nbformat": 4,
 "nbformat_minor": 5
}

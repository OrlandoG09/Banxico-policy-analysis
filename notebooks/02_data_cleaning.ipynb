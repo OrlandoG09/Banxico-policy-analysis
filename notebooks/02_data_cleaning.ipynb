{
 "cells": [
  {
   "cell_type": "markdown",
   "id": "be9d6f69",
   "metadata": {},
   "source": [
    "El objetivo de este notebook es cargar los archivos csv de la tasa objetivo, INPC y tipo de cambio para limpiarlos, transformar las fechas a data_time y poner las fechas como indices. Ademas, limpiar los datos y ajustar los datos diarios para homologarlos a mensuales. "
   ]
  },
  {
   "cell_type": "code",
   "execution_count": null,
   "id": "44573757",
   "metadata": {},
   "outputs": [],
   "source": [
    "import pandas as pd \n",
    "import os\n",
    "import sys\n",
    "\n",
    "\n",
    "#Nos permite subir de nivel para acceder a otras carpetas\n",
    "project_root = os.path.abspath(os.path.join(os.getcwd(), '..'))\n",
    "if project_root not in sys.path:\n",
    "    sys.path.insert(0, project_root)\n",
    "from banxico_utils import convertirDF\n",
    "#Guardar la direccion de la carpeta donde estan nuestros archivos     \n",
    "data_dir = os.path.join(project_root, 'data')\n",
    "print(f\"Buscando datos en: {data_dir}\")\n",
    "\n",
    "#Construimos las rutas finales a los CSV\n",
    "ruta_tasa = os.path.join(data_dir, \"TasaObjetivo.csv\")\n",
    "ruta_INPC = os.path.join(data_dir, \"INPCGeneral.csv\")\n",
    "ruta_tipo_cambio = os.path.join(data_dir, \"TipoDeCambio.csv\")\n",
    "\n",
    "\n",
    "\n",
    "\n",
    "#Cargar archivos csv\n",
    "try:\n",
    "    df_TasaObjetivo=pd.read_csv(ruta_tasa)\n",
    "    df_INPC=pd.read_csv(ruta_INPC)\n",
    "    df_TipoCambio=pd.read_csv(ruta_tipo_cambio)\n",
    "    print(\"Archivos cargados con exito; DF creados.\")\n",
    "except FileNotFoundError:\n",
    "    print(\"Error al cargar archivos\")\n",
    "    \n",
    "    \n",
    "#Llamar a funcion para convertir fechas \n",
    "df_TasaObjetivoI=convertirDF(df_TasaObjetivo)\n",
    "df_INPCI=convertirDF(df_INPC)\n",
    "df_TipoCambioI=convertirDF(df_TipoCambio)\n",
    "s\n",
    "#Imprimir DF solo para comprobar que se hayan aplicado los cambios a los DF\n",
    "print(df_TasaObjetivoI.head(5))\n",
    "print(df_INPCI.head(5))\n",
    "print(df_TipoCambioI.head(5))\n",
    "    \n",
    "    "
   ]
  }
 ],
 "metadata": {
  "kernelspec": {
   "display_name": "venv",
   "language": "python",
   "name": "python3"
  },
  "language_info": {
   "codemirror_mode": {
    "name": "ipython",
    "version": 3
   },
   "file_extension": ".py",
   "mimetype": "text/x-python",
   "name": "python",
   "nbconvert_exporter": "python",
   "pygments_lexer": "ipython3",
   "version": "3.13.5"
  }
 },
 "nbformat": 4,
 "nbformat_minor": 5
}
